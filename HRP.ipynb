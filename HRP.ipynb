{
 "cells": [
  {
   "cell_type": "markdown",
   "metadata": {},
   "source": [
    "\n",
    "# Hierarchical Risk Parity in Python"
   ]
  },
  {
   "cell_type": "markdown",
   "metadata": {},
   "source": [
    "## Basic configuration"
   ]
  },
  {
   "cell_type": "code",
   "execution_count": 7,
   "metadata": {},
   "outputs": [
    {
     "data": {
      "application/javascript": [
       "IPython.OutputArea.prototype._should_scroll = function(lines) {\n",
       "    return false;\n",
       "}"
      ],
      "text/plain": [
       "<IPython.core.display.Javascript object>"
      ]
     },
     "metadata": {},
     "output_type": "display_data"
    }
   ],
   "source": [
    "%%javascript\n",
    "IPython.OutputArea.prototype._should_scroll = function(lines) {\n",
    "    return false;\n",
    "}"
   ]
  },
  {
   "cell_type": "code",
   "execution_count": 8,
   "metadata": {},
   "outputs": [],
   "source": [
    "%matplotlib inline"
   ]
  },
  {
   "cell_type": "markdown",
   "metadata": {},
   "source": [
    "---\n",
    "## Reading files"
   ]
  },
  {
   "cell_type": "code",
   "execution_count": 23,
   "metadata": {},
   "outputs": [
    {
     "name": "stdout",
     "output_type": "stream",
     "text": [
      "7195\n"
     ]
    }
   ],
   "source": [
    "from os import listdir\n",
    "import pandas as pd\n",
    "import pickle\n",
    "from os.path import isfile, join\n",
    "onlyfiles = [f for f in listdir(\"Data/Stocks/\") if isfile(join(\"Data/Stocks/\", f))]\n",
    "print(len(onlyfiles))\n",
    "onlyfiles = onlyfiles[:500]"
   ]
  },
  {
   "cell_type": "code",
   "execution_count": 24,
   "metadata": {},
   "outputs": [
    {
     "name": "stdout",
     "output_type": "stream",
     "text": [
      "(500, 388)\n"
     ]
    }
   ],
   "source": [
    "df = pd.DataFrame()\n",
    "for file_x in onlyfiles:\n",
    "    try:\n",
    "        to_remove = pd.read_csv('Data/Stocks/'+ file_x)\n",
    "        if to_remove.shape[0] >= 501:\n",
    "            df[file_x.replace('.txt','')] = ((to_remove.Close.iloc[1:501].values-to_remove.Close.iloc[:500].values)/to_remove.Close.iloc[:500].values)\n",
    "    except:\n",
    "        pass\n",
    "print df.shape"
   ]
  },
  {
   "cell_type": "code",
   "execution_count": 25,
   "metadata": {},
   "outputs": [],
   "source": [
    "df.to_csv(\"Data/Exported/series.csv\")\n",
    "df.cov().to_csv(\"Data/Exported/cov.csv\")\n",
    "df.corr().to_csv(\"Data/Exported/corr.csv\")"
   ]
  },
  {
   "cell_type": "markdown",
   "metadata": {},
   "source": [
    "---\n",
    "## Model"
   ]
  },
  {
   "cell_type": "code",
   "execution_count": 26,
   "metadata": {},
   "outputs": [],
   "source": [
    "import matplotlib.pyplot as mpl\n",
    "import scipy.cluster.hierarchy as sch,random,numpy as np,pandas as pd "
   ]
  },
  {
   "cell_type": "code",
   "execution_count": 27,
   "metadata": {},
   "outputs": [],
   "source": [
    "def getIVP(cov,**kargs):\n",
    "    # Compute the inverse-variance portfolio\n",
    "    ivp=1./np.diag(cov) \n",
    "    ivp/=ivp.sum() \n",
    "    return ivp\n",
    "\n",
    "def getClusterVar(cov,cItems):\n",
    "    # Compute variance per cluster \n",
    "    cov_=cov.loc[cItems,cItems] # matrix slice \n",
    "    w_=getIVP(cov_).reshape(-1,1) \n",
    "    cVar=np.dot(np.dot(w_.T,cov_),w_)[0,0] \n",
    "    return cVar\n",
    "\n",
    "def getQuasiDiag(link):\n",
    "    # Sort clustered items by distance\n",
    "    link=link.astype(int) \n",
    "    sortIx=pd.Series([link[-1,0],link[-1,1]]) \n",
    "    numItems=link[-1,3] # number of original items \n",
    "    while sortIx.max()>=numItems:\n",
    "        sortIx.index=range(0,sortIx.shape[0]*2,2) # make space \n",
    "        df0=sortIx[sortIx>=numItems] # find clusters \n",
    "        i=df0.index;j=df0.values-numItems\n",
    "        sortIx[i]=link[j,0] # item 1\n",
    "        df0=pd.Series(link[j,1],index=i+1) \n",
    "        sortIx=sortIx.append(df0) # item 2 \n",
    "        sortIx=sortIx.sort_index() # re-sort \n",
    "        sortIx.index=range(sortIx.shape[0]) # re-index\n",
    "    return sortIx.tolist()\n",
    "#———————————————————————————————————————\n",
    "\n",
    "def getRecBipart(cov,sortIx):\n",
    "    # Compute HRP alloc\n",
    "    w=pd.Series(1,index=sortIx)\n",
    "    cItems=[sortIx] # initialize all items in one cluster \n",
    "    while len(cItems)>0:\n",
    "        cItems=[i[j:k] for i in cItems for j,k in ((0,len(i)/2), \\\n",
    "                                               (len(i)/2,len(i))) if len(i)>1] # bi-section\n",
    "        for i in xrange(0,len(cItems),2): # parse in pairs \n",
    "            cItems0=cItems[i] # cluster 1 \n",
    "            cItems1=cItems[i+1] # cluster 2 \n",
    "            cVar0=getClusterVar(cov,cItems0) \n",
    "            cVar1=getClusterVar(cov,cItems1) \n",
    "            alpha=1-cVar0/(cVar0+cVar1)\n",
    "            w[cItems0]*=alpha # weight 1\n",
    "            w[cItems1]*=1-alpha # weight 2 \n",
    "    return w\n",
    "#———————————————————————————————————————\n",
    "\n",
    "def correlDist(corr):\n",
    "    # A distance matrix based on correlation, where 0<=d[i,j]<=1 # This is a proper distance metric\n",
    "    dist=((1-corr)/2.)**.5 # distance matrix\n",
    "    return dist\n",
    "#———————————————————————————————————————\n",
    "\n",
    "def plotCorrMatrix(path,corr,labels=None): # Heatmap of the correlation matrix\n",
    "    if labels is None:labels=[] \n",
    "    mpl.pcolor(corr)\n",
    "    mpl.colorbar() \n",
    "    mpl.yticks(np.arange(.5,corr.shape[0]+.5),labels) \n",
    "    mpl.xticks(np.arange(.5,corr.shape[0]+.5),labels) \n",
    "    #mpl.savefig(path)\n",
    "    mpl.show()\n",
    "    mpl.clf();mpl.close() # reset pylab\n",
    "    return"
   ]
  },
  {
   "cell_type": "code",
   "execution_count": 28,
   "metadata": {},
   "outputs": [],
   "source": [
    "list_from_r = [8,16,14,2,1,6,7,3,13,10,12,15,5,9,4,11]\n",
    "list_from_r = [i - 1 for i in list_from_r]"
   ]
  },
  {
   "cell_type": "code",
   "execution_count": 29,
   "metadata": {},
   "outputs": [
    {
     "data": {
      "text/plain": [
       "<matplotlib.collections.PolyCollection at 0x6e2820c50>"
      ]
     },
     "execution_count": 29,
     "metadata": {},
     "output_type": "execute_result"
    },
    {
     "data": {
      "image/png": "[encoded data removed]",
      "text/plain": [
       "<matplotlib.figure.Figure at 0x109b48690>"
      ]
     },
     "metadata": {},
     "output_type": "display_data"
    }
   ],
   "source": [
    "mpl.pcolor(df.corr().iloc[list_from_r, list_from_r])"
   ]
  },
  {
   "cell_type": "code",
   "execution_count": 30,
   "metadata": {},
   "outputs": [],
   "source": [
    "def plot(link):\n",
    "    # calculate full dendrogram\n",
    "    mpl.figure(figsize=(25, 10))\n",
    "    mpl.title('Hierarchical Clustering Dendrogram')\n",
    "    mpl.xlabel('sample index')\n",
    "    mpl.ylabel('distance')\n",
    "    sch.dendrogram(\n",
    "        link,\n",
    "        leaf_rotation=90.,  # rotates the x axis labels\n",
    "        leaf_font_size=8.,  # font size for the x axis labels\n",
    "    )\n",
    "    mpl.show()"
   ]
  },
  {
   "cell_type": "code",
   "execution_count": null,
   "metadata": {},
   "outputs": [],
   "source": [
    "def main():\n",
    "    cov,corr=df.cov(),df.corr()\n",
    "    #2) compute and plot correl matrix \n",
    "    plotCorrMatrix('HRP3_corr0.png',corr,labels=corr.columns) \n",
    "    \n",
    "    #3) cluster\n",
    "    dist=correlDist(corr)\n",
    "    link=sch.linkage(dist,'single')\n",
    "    plot(link)\n",
    "    sortIx=getQuasiDiag(link)\n",
    "    sortIx=corr.index[sortIx].tolist() # recover labels \n",
    "    df0=corr.loc[sortIx,sortIx] # reorder \n",
    "    plotCorrMatrix('HRP3_corr1.png',df0,labels=df0.columns)\n",
    "    \n",
    "    #4) Capital allocation\n",
    "    hrp=getRecBipart(cov,sortIx) \n",
    "    return hrp, df0"
   ]
  },
  {
   "cell_type": "markdown",
   "metadata": {},
   "source": [
    "---\n",
    "## Result"
   ]
  },
  {
   "cell_type": "code",
   "execution_count": null,
   "metadata": {},
   "outputs": [],
   "source": [
    "hrp, corr = main()"
   ]
  },
  {
   "cell_type": "code",
   "execution_count": null,
   "metadata": {},
   "outputs": [],
   "source": [
    "hrp.sum()"
   ]
  },
  {
   "cell_type": "code",
   "execution_count": null,
   "metadata": {},
   "outputs": [],
   "source": [
    "def anualized(row):\n",
    "    anual = 1\n",
    "    for i in row.values:\n",
    "        anual = (anual)*(i+1)\n",
    "    anual -= 1\n",
    "    return anual"
   ]
  },
  {
   "cell_type": "code",
   "execution_count": null,
   "metadata": {},
   "outputs": [],
   "source": [
    "(df.apply(axis=0, func=anualized)*hrp).sum()"
   ]
  },
  {
   "cell_type": "code",
   "execution_count": null,
   "metadata": {},
   "outputs": [],
   "source": [
    "pickle.dump(hrp, open(\"outputs/3000stocks_hrp.p\", 'wb'))\n",
    "pickle.dump(df, open(\"outputs/3000stocks_df.p\", 'wb'))\n",
    "pickle.dump(corr, open(\"outputs/3000stocks_corr.p\", 'wb'))"
   ]
  },
  {
   "cell_type": "code",
   "execution_count": null,
   "metadata": {},
   "outputs": [],
   "source": []
  },
  {
   "cell_type": "code",
   "execution_count": null,
   "metadata": {},
   "outputs": [],
   "source": []
  }
 ],
 "metadata": {
  "kernelspec": {
   "display_name": "Python 2",
   "language": "python",
   "name": "python2"
  },
  "language_info": {
   "codemirror_mode": {
    "name": "ipython",
    "version": 2
   },
   "file_extension": ".py",
   "mimetype": "text/x-python",
   "name": "python",
   "nbconvert_exporter": "python",
   "pygments_lexer": "ipython2",
   "version": "2.7.14"
  }
 },
 "nbformat": 4,
 "nbformat_minor": 2
}
